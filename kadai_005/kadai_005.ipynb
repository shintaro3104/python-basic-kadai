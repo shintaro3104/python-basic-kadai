{
  "nbformat": 4,
  "nbformat_minor": 0,
  "metadata": {
    "colab": {
      "provenance": []
    },
    "kernelspec": {
      "name": "python3",
      "display_name": "Python 3"
    },
    "language_info": {
      "name": "python"
    }
  },
  "cells": [
    {
      "cell_type": "code",
      "execution_count": 12,
      "metadata": {
        "id": "Ka39vKoNMiAv",
        "colab": {
          "base_uri": "https://localhost:8080/"
        },
        "outputId": "23250110-35db-4fdc-b220-bea1ccc4c333"
      },
      "outputs": [
        {
          "output_type": "stream",
          "name": "stdout",
          "text": [
            "75.0c㎡\n"
          ]
        }
      ],
      "source": [
        "top_side = 10\n",
        "bottom_side = 20\n",
        "height = 5\n",
        "\n",
        "trapezoid = ((top_side + bottom_side) / 2) * height\n",
        "\n",
        "print(str(trapezoid) + \"c㎡\")"
      ]
    }
  ]
}