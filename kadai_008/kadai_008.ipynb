{
  "nbformat": 4,
  "nbformat_minor": 0,
  "metadata": {
    "colab": {
      "provenance": []
    },
    "kernelspec": {
      "name": "python3",
      "display_name": "Python 3"
    },
    "language_info": {
      "name": "python"
    }
  },
  "cells": [
    {
      "cell_type": "code",
      "source": [
        "var = 50\n",
        "\n",
        "if var % 3 == 0 and var % 5 == 0 :\n",
        "    print (\"FizzBuz\")\n",
        "elif  var % 5 == 0 :\n",
        "    print (\"Buzz\")\n",
        "elif var % 3 == 0 :\n",
        "    print  (\"Fizz\")\n",
        "else :\n",
        "    print (var)\n"
      ],
      "metadata": {
        "colab": {
          "base_uri": "https://localhost:8080/"
        },
        "id": "P5CH2leUKJ0I",
        "outputId": "27097e66-abac-4baa-e555-6c40f146d7e3"
      },
      "execution_count": 15,
      "outputs": [
        {
          "output_type": "stream",
          "name": "stdout",
          "text": [
            "Buzz\n"
          ]
        }
      ]
    }
  ]
}