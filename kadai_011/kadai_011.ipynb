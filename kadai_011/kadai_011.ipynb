{
  "nbformat": 4,
  "nbformat_minor": 0,
  "metadata": {
    "colab": {
      "provenance": []
    },
    "kernelspec": {
      "name": "python3",
      "display_name": "Python 3"
    },
    "language_info": {
      "name": "python"
    }
  },
  "cells": [
    {
      "cell_type": "code",
      "source": [
        "def add_tax(price, tax_rate):\n",
        "    #消費税10%の時はtax_rate = 10として計算する数式。\n",
        "    total = price * (1 +tax_rate / 100)\n",
        "    return total\n",
        "\n",
        "price = 300\n",
        "tax_rate = 10\n",
        "\n",
        "print(f\"合計{int(add_tax(price,tax_rate))}円です（商品{price}円、消費税{tax_rate}%）\")"
      ],
      "metadata": {
        "colab": {
          "base_uri": "https://localhost:8080/"
        },
        "id": "XEO5Px12HvxY",
        "outputId": "db76b3b4-6ce4-4756-aa68-b15a66699f5f"
      },
      "execution_count": 1,
      "outputs": [
        {
          "output_type": "stream",
          "name": "stdout",
          "text": [
            "合計330円です（商品300円、消費税10%）\n"
          ]
        }
      ]
    }
  ]
}